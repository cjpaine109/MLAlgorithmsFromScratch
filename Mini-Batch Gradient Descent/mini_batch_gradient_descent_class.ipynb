{
 "cells": [
  {
   "cell_type": "markdown",
   "metadata": {},
   "source": [
    "## Class ---> 'Mini-Batch Gradient Descent' with Kaggle dataset"
   ]
  },
  {
   "cell_type": "code",
   "execution_count": 15,
   "metadata": {},
   "outputs": [],
   "source": [
    "# IMPORTS\n",
    "import numpy as np\n",
    "import pandas as pd\n",
    "from sklearn.preprocessing import StandardScaler\n",
    "from sklearn.model_selection import train_test_split"
   ]
  },
  {
   "cell_type": "code",
   "execution_count": 16,
   "metadata": {},
   "outputs": [
    {
     "data": {
      "text/html": [
       "<div>\n",
       "<style scoped>\n",
       "    .dataframe tbody tr th:only-of-type {\n",
       "        vertical-align: middle;\n",
       "    }\n",
       "\n",
       "    .dataframe tbody tr th {\n",
       "        vertical-align: top;\n",
       "    }\n",
       "\n",
       "    .dataframe thead th {\n",
       "        text-align: right;\n",
       "    }\n",
       "</style>\n",
       "<table border=\"1\" class=\"dataframe\">\n",
       "  <thead>\n",
       "    <tr style=\"text-align: right;\">\n",
       "      <th></th>\n",
       "      <th>YearsExperience</th>\n",
       "      <th>Salary</th>\n",
       "    </tr>\n",
       "  </thead>\n",
       "  <tbody>\n",
       "    <tr>\n",
       "      <th>0</th>\n",
       "      <td>1.2</td>\n",
       "      <td>39344.0</td>\n",
       "    </tr>\n",
       "    <tr>\n",
       "      <th>1</th>\n",
       "      <td>1.4</td>\n",
       "      <td>46206.0</td>\n",
       "    </tr>\n",
       "    <tr>\n",
       "      <th>2</th>\n",
       "      <td>1.6</td>\n",
       "      <td>37732.0</td>\n",
       "    </tr>\n",
       "    <tr>\n",
       "      <th>3</th>\n",
       "      <td>2.1</td>\n",
       "      <td>43526.0</td>\n",
       "    </tr>\n",
       "    <tr>\n",
       "      <th>4</th>\n",
       "      <td>2.3</td>\n",
       "      <td>39892.0</td>\n",
       "    </tr>\n",
       "  </tbody>\n",
       "</table>\n",
       "</div>"
      ],
      "text/plain": [
       "   YearsExperience   Salary\n",
       "0              1.2  39344.0\n",
       "1              1.4  46206.0\n",
       "2              1.6  37732.0\n",
       "3              2.1  43526.0\n",
       "4              2.3  39892.0"
      ]
     },
     "execution_count": 16,
     "metadata": {},
     "output_type": "execute_result"
    }
   ],
   "source": [
    "# Load the data\n",
    "data = pd.read_csv(\"Dataset/Salary_dataset.csv\")\n",
    "data = data.drop(\"Unnamed: 0\", axis=1)\n",
    "data.head()"
   ]
  },
  {
   "cell_type": "code",
   "execution_count": 17,
   "metadata": {},
   "outputs": [
    {
     "name": "stdout",
     "output_type": "stream",
     "text": [
      "<class 'pandas.core.frame.DataFrame'>\n",
      "RangeIndex: 30 entries, 0 to 29\n",
      "Data columns (total 2 columns):\n",
      " #   Column           Non-Null Count  Dtype  \n",
      "---  ------           --------------  -----  \n",
      " 0   YearsExperience  30 non-null     float64\n",
      " 1   Salary           30 non-null     float64\n",
      "dtypes: float64(2)\n",
      "memory usage: 612.0 bytes\n"
     ]
    }
   ],
   "source": [
    "data.info()"
   ]
  },
  {
   "cell_type": "code",
   "execution_count": 18,
   "metadata": {},
   "outputs": [],
   "source": [
    "# Get X and y variables\n",
    "X = data[['YearsExperience']].values \n",
    "y = data[['Salary']].values\n",
    "\n",
    "# Scale the data\n",
    "scaler = StandardScaler()\n",
    "scaled_X = scaler.fit_transform(X)\n",
    "\n",
    "# Get training and testing data\n",
    "X_train, X_test, y_train, y_test = train_test_split(scaled_X, y, test_size=0.2, random_state=42)"
   ]
  },
  {
   "cell_type": "code",
   "execution_count": 19,
   "metadata": {},
   "outputs": [],
   "source": [
    "# class ---> 'Mini-Batch Gradient Descent' algo\n",
    "class MBGD:\n",
    "    def __init__(self, learning_rate=0.01, n_epochs=1000, batch_size=5, tolerance=1e-6):\n",
    "        self.learning_rate_ = learning_rate\n",
    "        self.n_epochs_ = n_epochs\n",
    "        self.batch_size_ = batch_size\n",
    "        self.tolerance_ = tolerance\n",
    "        self.weights = None\n",
    "        self.bias = None\n",
    "\n",
    "    def predict(self, X):\n",
    "        return X @ self.weights + self.bias # y = mx + b\n",
    "    \n",
    "    def MSE(self, y_true, y_pred):\n",
    "        return np.mean((y_true-y_pred)**2)\n",
    "    \n",
    "    def fit(self, X, y):\n",
    "        m, n = X.shape\n",
    "        self.weights = np.random.randn(n, 1)\n",
    "        self.bias = 0\n",
    "\n",
    "        for epoch in range(self.n_epochs_):\n",
    "            random_samples = np.random.choice(m, self.batch_size_, replace=False)\n",
    "            xi = X[random_samples]\n",
    "            yi = y[random_samples]\n",
    "            y_pred = self.predict(xi)\n",
    "            error = y_pred - yi\n",
    "            w_grad = 2 * xi.T @ error / self.batch_size_ # divide by 'batch_size'\n",
    "            b_grad = 2 * np.mean(error)\n",
    "            self.weights = self.weights - self.learning_rate_ * w_grad\n",
    "            self.bias = self.bias - self.learning_rate_ * b_grad\n",
    "\n",
    "            if np.linalg.norm(w_grad) < self.tolerance_ and np.abs(b_grad) < self.tolerance_:\n",
    "                print(f\"Converged at epoch: {epoch}\")\n",
    "                break\n",
    "        return self.weights, self.bias "
   ]
  },
  {
   "cell_type": "code",
   "execution_count": 20,
   "metadata": {},
   "outputs": [
    {
     "name": "stdout",
     "output_type": "stream",
     "text": [
      "Weights: [[26148.50524716]] - Bias: 75341.65928357429\n",
      "RMSE: 7090.784081467546\n"
     ]
    }
   ],
   "source": [
    "# Create an instance + evaluate\n",
    "mbgd = MBGD()\n",
    "weights, bias = mbgd.fit(X_train, y_train)\n",
    "print(f\"Weights: {weights} - Bias: {bias}\")\n",
    "preds = mbgd.predict(X_test)\n",
    "RMSE = np.sqrt(mbgd.MSE(y_test, preds))\n",
    "print(f\"RMSE: {RMSE}\")"
   ]
  },
  {
   "cell_type": "code",
   "execution_count": 21,
   "metadata": {},
   "outputs": [
    {
     "name": "stdout",
     "output_type": "stream",
     "text": [
      "RMSE: 7059.043621901506\n"
     ]
    }
   ],
   "source": [
    "# Compare with sklearn\n",
    "from sklearn.linear_model import LinearRegression\n",
    "from sklearn.metrics import mean_squared_error\n",
    "\n",
    "lin_reg = LinearRegression()\n",
    "lin_reg.fit(X_train, y_train)\n",
    "new_preds = lin_reg.predict(X_test)\n",
    "RMSE = mean_squared_error(y_test, new_preds, squared=False)\n",
    "print(f\"RMSE: {RMSE}\")"
   ]
  }
 ],
 "metadata": {
  "kernelspec": {
   "display_name": "Python 3",
   "language": "python",
   "name": "python3"
  },
  "language_info": {
   "codemirror_mode": {
    "name": "ipython",
    "version": 3
   },
   "file_extension": ".py",
   "mimetype": "text/x-python",
   "name": "python",
   "nbconvert_exporter": "python",
   "pygments_lexer": "ipython3",
   "version": "3.11.5"
  }
 },
 "nbformat": 4,
 "nbformat_minor": 2
}
